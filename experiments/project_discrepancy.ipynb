{
 "cells": [
  {
   "cell_type": "code",
   "execution_count": 10,
   "metadata": {},
   "outputs": [],
   "source": [
    "import numpy as np\n",
    "import pandas as pd\n",
    "\n",
    "import geopandas as gpd\n",
    "import shapely.wkt\n",
    "from shapely import geometry\n",
    "import geojson\n",
    "from shapely.geometry import shape\n",
    "from shapely.wkt import loads\n",
    "\n",
    "import re\n",
    "\n",
    "import sys, os, time\n",
    "import glob\n",
    "\n",
    "from matplotlib import pyplot as plt\n",
    "from matplotlib.colors import ListedColormap\n",
    "import matplotlib.cm as cm\n",
    "\n",
    "%matplotlib inline\n",
    "\n",
    "# these magics ensure that external modules that are modified are also automatically reloaded\n",
    "%load_ext autoreload\n",
    "%autoreload 2\n",
    "\n",
    "# widgets and interaction\n",
    "from ipywidgets import FloatProgress\n",
    "from IPython.display import display, clear_output\n",
    "\n",
    "import seaborn as sns\n",
    "sns.set_style(\"whitegrid\", {'axes.grid' : False})\n",
    "\n",
    "from skimage.io import imread, imsave\n",
    "\n",
    "import warnings\n",
    "warnings.filterwarnings('ignore')\n",
    "\n",
    "import gzip\n",
    "import pickle\n",
    "import copy\n",
    "\n",
    "colormap = {\"bldg\":\"black\", \"pop\":\"green\", \"lum\":\"orange\", \n",
    "            \"all\":\"blue\", \"bnds\":\"gray\"}\n",
    "\n",
    "cmap_bld = sns.light_palette(\"black\", n_colors=10)\n",
    "cmap_pop = sns.light_palette(\"green\", n_colors=10)\n",
    "cmap_lum = sns.light_palette(\"orange\",n_colors=10)\n",
    "\n",
    "\n",
    "cmap_dict = {\"bldg\":ListedColormap(cmap_bld), \n",
    "             \"pop\":ListedColormap(cmap_pop), \n",
    "             \"lum\":ListedColormap(cmap_lum)}\n"
   ]
  },
  {
   "cell_type": "code",
   "execution_count": 3,
   "metadata": {},
   "outputs": [
    {
     "name": "stdout",
     "output_type": "stream",
     "text": [
      "10\n"
     ]
    }
   ],
   "source": [
    "import pickle\n",
    "import gzip\n",
    "\n",
    "# pickle with stats dictionary\n",
    "stats_file_path = \"C:/Users/bramv/OneDrive - Square Four/Documenten/Leiden/23-24/urban computing/urbanization-patterns-master./urbanization-patterns-master/pysatml/home/data/world-cities/spatial-maps/stats_cities_over10kpop.pickle.gz\"\n",
    "\n",
    "# Open the file using gzip for reading\n",
    "with open(stats_file_path, \"rb\") as f:\n",
    "    cities = pickle.load(f)\n",
    "\n",
    "print(len(cities))"
   ]
  },
  {
   "cell_type": "code",
   "execution_count": 4,
   "metadata": {},
   "outputs": [],
   "source": [
    "# add specific info which did not come with the original data\n",
    "mycities = [(\"paris\", \"france\")]\n",
    "\n",
    "cities_smpl = {}\n",
    "for c in mycities:\n",
    "    for k, v in cities.items():\n",
    "        if 'city' not in v:\n",
    "            v['city'] = c[0]\n",
    "        if 'country' not in v:\n",
    "            v['country'] = c[1]\n",
    "        if 'population' not in v:\n",
    "            v['population'] = 2200000\n",
    "            v['size'] = 'large'\n",
    "        cities_smpl[v['city']] = {\n",
    "            'name': v['city'],\n",
    "            'country': v['country'],\n",
    "            'data': (v, k),\n",
    "        }\n"
   ]
  },
  {
   "cell_type": "code",
   "execution_count": 5,
   "metadata": {},
   "outputs": [],
   "source": [
    "from matplotlib.colors import hsv_to_rgb, rgb_to_hsv\n",
    "# import resize skimage.transform.resize\n",
    "from skimage.transform import resize\n",
    "\n",
    "def get_image_data(city_info, imgSize=None, take_log=False):\n",
    "    fname = files_dict[city_info]\n",
    "    img = imread(fname)\n",
    "    if imgSize is not None:\n",
    "        img = resize(img, (imgSize, imgSize), preserve_range=True)\n",
    "    f = np.log if take_log else lambda x: x\n",
    "    mask = img[...,3]==0\n",
    "    for i in range(3):\n",
    "        img[...,i] = f(img[...,i]); img[...,i][mask] = np.nan\n",
    "        img[...,i] = (img[...,i] - np.nanmin(img[...,i])) / float((np.nanmax(img[...,i]) - np.nanmin(img[...,i])))\n",
    "    return {'bldg':img[...,0], \n",
    "            'pop':img[...,1], \n",
    "            'lum':img[...,2], \n",
    "            'wtr':mask,\n",
    "            'bnd':img[...,4]} \n",
    "\n",
    "def format_pop(pop):\n",
    "    if pop > 1e6:\n",
    "        div = 1e6\n",
    "        s = 'M'\n",
    "    else:\n",
    "        div = 1e3\n",
    "        s = 'k'\n",
    "    return \"%2.1f%s\"%(float(pop)/div, s)\n",
    "\n",
    "import matplotlib.cm as cm\n",
    "\n",
    "def overlay_mask(img, mask, ax, alpha=0.1, cmap=cm.GnBu):\n",
    "    masked_data = np.ma.masked_where(mask, img)\n",
    "    # Overlay the two images\n",
    "    ax.imshow(img, cmap=cmap)\n",
    "    ax.imshow(masked_data, cmap=cm.gray, interpolation='none', alpha=alpha)"
   ]
  },
  {
   "cell_type": "code",
   "execution_count": 6,
   "metadata": {},
   "outputs": [
    {
     "data": {
      "text/html": [
       "<div>\n",
       "<style scoped>\n",
       "    .dataframe tbody tr th:only-of-type {\n",
       "        vertical-align: middle;\n",
       "    }\n",
       "\n",
       "    .dataframe tbody tr th {\n",
       "        vertical-align: top;\n",
       "    }\n",
       "\n",
       "    .dataframe thead th {\n",
       "        text-align: right;\n",
       "    }\n",
       "</style>\n",
       "<table border=\"1\" class=\"dataframe\">\n",
       "  <thead>\n",
       "    <tr style=\"text-align: right;\">\n",
       "      <th></th>\n",
       "      <th>city</th>\n",
       "      <th>country</th>\n",
       "      <th>population</th>\n",
       "      <th>scale-pop</th>\n",
       "      <th>bldg-in</th>\n",
       "      <th>pop-in</th>\n",
       "      <th>lum-in</th>\n",
       "      <th>bldg-tot</th>\n",
       "      <th>pop-tot</th>\n",
       "      <th>lum-tot</th>\n",
       "      <th>bldg-max</th>\n",
       "      <th>pop-max</th>\n",
       "      <th>lum-max</th>\n",
       "    </tr>\n",
       "  </thead>\n",
       "  <tbody>\n",
       "    <tr>\n",
       "      <th>0</th>\n",
       "      <td>0</td>\n",
       "      <td></td>\n",
       "      <td>0</td>\n",
       "      <td></td>\n",
       "      <td>148.602574</td>\n",
       "      <td>0.0</td>\n",
       "      <td>1.0</td>\n",
       "      <td>13.514113</td>\n",
       "      <td>14762042.0</td>\n",
       "      <td>0.568988</td>\n",
       "      <td>134.490979</td>\n",
       "      <td>19949.875</td>\n",
       "      <td>1.0</td>\n",
       "    </tr>\n",
       "  </tbody>\n",
       "</table>\n",
       "</div>"
      ],
      "text/plain": [
       "   city country  population scale-pop     bldg-in  pop-in  lum-in   bldg-tot  \\\n",
       "0     0                   0            148.602574     0.0     1.0  13.514113   \n",
       "\n",
       "      pop-tot   lum-tot    bldg-max    pop-max  lum-max  \n",
       "0  14762042.0  0.568988  134.490979  19949.875      1.0  "
      ]
     },
     "execution_count": 6,
     "metadata": {},
     "output_type": "execute_result"
    }
   ],
   "source": [
    "import numpy as np\n",
    "import pandas as pd\n",
    "\n",
    "# get everything out of the dictionary into a dataframe\n",
    "\n",
    "paris_data = cities\n",
    "\n",
    "# Extracting scales_within data\n",
    "scales_within = np.array([\n",
    "    paris_data.get('avg_area_bnds', {}).get('built', np.nan),\n",
    "    paris_data.get('population', np.nan),\n",
    "    paris_data.get('avg_area_bnds', {}).get('lum', np.nan)\n",
    "]).reshape(1, -1)\n",
    "\n",
    "# Extracting scales_total data\n",
    "scales_total = np.array([\n",
    "    paris_data.get('avg_area', {}).get('built', np.nan),\n",
    "    paris_data.get('sum_area', {}).get('pop', np.nan),\n",
    "    paris_data.get('avg_area', {}).get('lum', np.nan)\n",
    "]).reshape(1, -1)\n",
    "\n",
    "# Extracting scales_max data\n",
    "scales_max = np.array([\n",
    "    np.nanmax(paris_data.get('profiles', {}).get('built', [np.nan])),\n",
    "    np.nanmax(paris_data.get('profiles', {}).get('pop', [np.nan])),\n",
    "    np.nanmax(paris_data.get('profiles', {}).get('lum', [np.nan]))\n",
    "]).reshape(1, -1)\n",
    "\n",
    "# Combine all scales data\n",
    "scales = np.hstack([scales_within, scales_total, scales_max])\n",
    "\n",
    "# Define columns for scales_df\n",
    "columns_scales = [\"bldg-in\", \"pop-in\", \"lum-in\",\n",
    "                  \"bldg-tot\", \"pop-tot\", \"lum-tot\",\n",
    "                  \"bldg-max\", \"pop-max\", \"lum-max\"]\n",
    "\n",
    "# Create scales_df\n",
    "scales_df = pd.DataFrame(scales, columns=columns_scales)\n",
    "\n",
    "# Create info_df for Paris\n",
    "info_df = pd.DataFrame({\n",
    "    'city': [paris_data.get('city')],\n",
    "    'country': [paris_data.get('country', '')],\n",
    "    'population': [int(float(paris_data.get('population', 0)))],\n",
    "    'scale-pop': [paris_data.get('size', '')]\n",
    "})\n",
    "\n",
    "# Concatenate info_df and scales_df\n",
    "result_df = pd.concat([info_df, scales_df], axis=1)\n",
    "\n",
    "result_df.fillna(0, inplace=True)  # Fill NaN values with 0\n",
    "\n",
    "result_df.head()\n"
   ]
  },
  {
   "cell_type": "code",
   "execution_count": 7,
   "metadata": {},
   "outputs": [
    {
     "data": {
      "text/html": [
       "<div>\n",
       "<style scoped>\n",
       "    .dataframe tbody tr th:only-of-type {\n",
       "        vertical-align: middle;\n",
       "    }\n",
       "\n",
       "    .dataframe tbody tr th {\n",
       "        vertical-align: top;\n",
       "    }\n",
       "\n",
       "    .dataframe thead th {\n",
       "        text-align: right;\n",
       "    }\n",
       "</style>\n",
       "<table border=\"1\" class=\"dataframe\">\n",
       "  <thead>\n",
       "    <tr style=\"text-align: right;\">\n",
       "      <th></th>\n",
       "      <th>city</th>\n",
       "      <th>country</th>\n",
       "      <th>population</th>\n",
       "      <th>scale-pop</th>\n",
       "      <th>bldg-in</th>\n",
       "      <th>pop-in</th>\n",
       "      <th>lum-in</th>\n",
       "      <th>bldg-tot</th>\n",
       "      <th>pop-tot</th>\n",
       "      <th>lum-tot</th>\n",
       "      <th>bldg-max</th>\n",
       "      <th>pop-max</th>\n",
       "      <th>lum-max</th>\n",
       "    </tr>\n",
       "  </thead>\n",
       "  <tbody>\n",
       "    <tr>\n",
       "      <th>0</th>\n",
       "      <td>paris</td>\n",
       "      <td>france</td>\n",
       "      <td>2200000</td>\n",
       "      <td>large</td>\n",
       "      <td>148.602574</td>\n",
       "      <td>2200000.0</td>\n",
       "      <td>1.0</td>\n",
       "      <td>13.514113</td>\n",
       "      <td>14762042.0</td>\n",
       "      <td>0.568988</td>\n",
       "      <td>134.490979</td>\n",
       "      <td>19949.875</td>\n",
       "      <td>1.0</td>\n",
       "    </tr>\n",
       "  </tbody>\n",
       "</table>\n",
       "</div>"
      ],
      "text/plain": [
       "    city country  population scale-pop     bldg-in     pop-in  lum-in  \\\n",
       "0  paris  france     2200000     large  148.602574  2200000.0     1.0   \n",
       "\n",
       "    bldg-tot     pop-tot   lum-tot    bldg-max    pop-max  lum-max  \n",
       "0  13.514113  14762042.0  0.568988  134.490979  19949.875      1.0  "
      ]
     },
     "execution_count": 7,
     "metadata": {},
     "output_type": "execute_result"
    }
   ],
   "source": [
    "# add stuff again \n",
    "result_df['city'] = 'paris'\n",
    "result_df['country'] = 'france'\n",
    "result_df['population'] = 2200000\n",
    "result_df['scale-pop'] = 'large'\n",
    "result_df['pop-in'] = 2200000.0\n",
    "\n",
    "result_df.head()"
   ]
  },
  {
   "cell_type": "markdown",
   "metadata": {},
   "source": [
    "# analyze discrepancy"
   ]
  },
  {
   "cell_type": "markdown",
   "metadata": {},
   "source": [
    "Analysis only on the data gathered from the statistics we calculated earlier, and saved to the pickle file."
   ]
  },
  {
   "cell_type": "code",
   "execution_count": 8,
   "metadata": {},
   "outputs": [
    {
     "name": "stdout",
     "output_type": "stream",
     "text": [
      "[ 1  1 -1  0 -2 -3  4  5]\n",
      "[0 0 1 0 0 0 1 0]\n",
      "[(0, 2, 1), (2, 6, -1), (6, 7, 1)]\n"
     ]
    }
   ],
   "source": [
    "from pyemd import emd, emd_with_flow\n",
    "from scipy.linalg import toeplitz\n",
    "\n",
    "def find_sign_change_array(a):\n",
    "    asign = np.sign(a)\n",
    "    sz = asign == 0\n",
    "    if sz.any():\n",
    "        asign[sz] = np.roll(asign, 1)[sz]\n",
    "        sz = asign == 0\n",
    "    signchange = ((np.roll(asign, 1) - asign) != 0).astype(int)\n",
    "    signchange[0] = 0\n",
    "    return signchange\n",
    "\n",
    "def get_regions(a):\n",
    "    sgn = find_sign_change_array(a)\n",
    "    regs= []\n",
    "    i = 0\n",
    "    for j,s in enumerate(sgn):\n",
    "        if s==1:\n",
    "            regs += [(i,j,np.sign(a[i]))]\n",
    "            i = j\n",
    "    if i<j:\n",
    "        regs += [(i,j,np.sign(a[i]))]\n",
    "    return regs\n",
    "\n",
    "a = np.array([1,1,-1,0, -2,-3,4,5])\n",
    "print (a)\n",
    "print (find_sign_change_array(a))\n",
    "print (get_regions(a))"
   ]
  },
  {
   "cell_type": "code",
   "execution_count": 11,
   "metadata": {},
   "outputs": [
    {
     "name": "stdout",
     "output_type": "stream",
     "text": [
      "(0.4134680080250869, [(0, 8, -0.3033769988664081), (8, 40, 0.611807550316567), (40, 49, -0.8864453155721209)])\n"
     ]
    },
    {
     "data": {
      "text/plain": [
       "<matplotlib.legend.Legend at 0x1d1f11817c0>"
      ]
     },
     "execution_count": 11,
     "metadata": {},
     "output_type": "execute_result"
    },
    {
     "data": {
      "image/png": "[encoded data removed]",
      "text/plain": [
       "<Figure size 640x480 with 1 Axes>"
      ]
     },
     "metadata": {},
     "output_type": "display_data"
    }
   ],
   "source": [
    "def compute_discrepancy(source0, target0, weights=None):\n",
    "    weights = np.ones(len(source0)) if weights is None else weights\n",
    "    source = weights * source0\n",
    "    target = weights * target0\n",
    "    dif = source - target\n",
    "    reg = get_regions(dif)\n",
    "    top = np.array([max([i,j]) for i,j in zip(source,target)])\n",
    "    tot_disc = dif.sum()/float(target.sum())\n",
    "    disc=[]\n",
    "    for (i,j,s) in reg:\n",
    "        d = dif[i:j].sum() / float(top[i:j].sum())\n",
    "        disc += [(i,j,d)]\n",
    "    return tot_disc, disc\n",
    "\n",
    "src = 0.5*(1 + np.sin(np.arange(0,5,0.1)))\n",
    "trg = 0.5*(1 + np.cos(np.arange(0,5,0.1)))\n",
    "discr = compute_discrepancy(src, trg)\n",
    "print (discr)\n",
    "plt.plot(src, label=\"source\")\n",
    "plt.plot(trg, label=\"target\")\n",
    "plt.legend(loc=\"best\")"
   ]
  },
  {
   "cell_type": "code",
   "execution_count": 12,
   "metadata": {},
   "outputs": [
    {
     "name": "stdout",
     "output_type": "stream",
     "text": [
      "4.288959486931389\n",
      "[(0, 87, 0.8094538300062755)]\n"
     ]
    }
   ],
   "source": [
    "mu_pop = cities['profiles']['pop'][0]\n",
    "mu_lum = cities['profiles']['lum'][0]\n",
    "\n",
    "# Identify nan values and filter them out\n",
    "nan_indices_pop = np.isnan(mu_pop)\n",
    "nan_indices_lum = np.isnan(mu_lum)\n",
    "\n",
    "# Filter out nan values from both arrays\n",
    "mu_pop = mu_pop[~nan_indices_pop]\n",
    "mu_lum = mu_lum[~nan_indices_lum]\n",
    "\n",
    "mu_pop = mu_pop/mu_pop.max()\n",
    "mu_lum = mu_lum/mu_lum.max()\n",
    "\n",
    "\n",
    "dis_lum, dis_lum_reg = compute_discrepancy(mu_lum, mu_pop)\n",
    "\n",
    "print (dis_lum)\n",
    "print (dis_lum_reg)"
   ]
  },
  {
   "cell_type": "code",
   "execution_count": null,
   "metadata": {},
   "outputs": [],
   "source": []
  }
 ],
 "metadata": {
  "kernelspec": {
   "display_name": "tf",
   "language": "python",
   "name": "python3"
  },
  "language_info": {
   "codemirror_mode": {
    "name": "ipython",
    "version": 3
   },
   "file_extension": ".py",
   "mimetype": "text/x-python",
   "name": "python",
   "nbconvert_exporter": "python",
   "pygments_lexer": "ipython3",
   "version": "3.9.18"
  }
 },
 "nbformat": 4,
 "nbformat_minor": 2
}
